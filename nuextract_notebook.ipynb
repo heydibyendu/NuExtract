{
 "cells": [
  {
   "cell_type": "code",
   "execution_count": 1,
   "id": "e83904d4-15d1-42e7-9c78-15bc636246f2",
   "metadata": {},
   "outputs": [
    {
     "name": "stdout",
     "output_type": "stream",
     "text": [
      "Imported ...\n"
     ]
    }
   ],
   "source": [
    "# Importing necessary libraries\n",
    "import json\n",
    "import ollama\n",
    "\n",
    "print('Imported ...')"
   ]
  },
  {
   "cell_type": "code",
   "execution_count": 2,
   "id": "4561cbf5-5236-41b4-8422-6e2937469f87",
   "metadata": {},
   "outputs": [
    {
     "name": "stdout",
     "output_type": "stream",
     "text": [
      "Defined ...\n"
     ]
    }
   ],
   "source": [
    "# Function to create a structured message for the Ollama API call\n",
    "def create_user_message(template, text):\n",
    "    # Return a formatted string where the 'template' JSON and the 'text' are embedded in a message format\n",
    "    return f\"\"\"### Template:\n",
    "        {template}\n",
    "        ### Text:\n",
    "        {text}\n",
    "        \"\"\"\n",
    "\n",
    "# Function to call the model and extract specific information\n",
    "def extract_info(text, template):\n",
    "    # Call create_user_message to structure the message using the template and text\n",
    "    user_message = create_user_message(\n",
    "        template=json.dumps(template),  # Convert template to a JSON string for consistency\n",
    "        text=text  # Insert the text for information extraction\n",
    "    )\n",
    "\n",
    "    # Make an API call to the Ollama model\n",
    "    return ollama.chat(\n",
    "        model='nuextract',  # Specify the model\n",
    "        messages=[{'role': 'user', 'content': user_message}],  # Send the formatted message to the model\n",
    "    )\n",
    "\n",
    "print('Defined ...')"
   ]
  },
  {
   "cell_type": "markdown",
   "id": "e81b568b-dd20-4f0e-be78-6841b5b5e1a9",
   "metadata": {},
   "source": [
    "# Example 1: Clinical Note"
   ]
  },
  {
   "cell_type": "code",
   "execution_count": 3,
   "id": "90bd36c9-542a-4e9b-ab35-e1fbaeaf6625",
   "metadata": {},
   "outputs": [],
   "source": [
    "# Define a template for extracting doctor-patient discussion\n",
    "template1 = \"\"\"{\n",
    "  'Doctor_Patient_Discussion': {\n",
    "    'Initial_Observation': {\n",
    "      'Symptoms': [],\n",
    "      'Initial_Assessment': ''\n",
    "    },\n",
    "   'Medical_Examination': {\n",
    "      'Temperature': '',\n",
    "      'Blood_Pressure': '',\n",
    "      'Doctor_Assessment': '',\n",
    "      'Diagnosis': ''\n",
    "    },\n",
    "    'Treatment_Plan': {\n",
    "      'Prescription': []\n",
    "    }\n",
    "  }\n",
    "}\"\"\""
   ]
  },
  {
   "cell_type": "code",
   "execution_count": 4,
   "id": "37af6b27-c9a3-446c-b0ad-f9f2a3cccfe2",
   "metadata": {},
   "outputs": [],
   "source": [
    "# Sample input text about doctor-patient discussion\n",
    "text1 = \"\"\"((He removes the thermometer and looks at the reading.)\n",
    "Doctor: Not too high – 99.8.\n",
    "(He then proceeds with measuring blood pressure.)\n",
    "Doctor: Your blood pressure is fine.\n",
    "(He then checks the throat.)\n",
    "Doctor: It looks bit scruffy. Not good.\n",
    "Patient: Yes, it has been quite bad.\n",
    "Doctor: Do you get sweating and shivering?\n",
    "Patient: Not sweating, but I feel somewhat cold when I sit under a fan.\n",
    "Doctor: OK. You’ve few symptoms of malaria. I would suggest you undergo blood test. Nothing to worry about. In most cases, the test come out to be negative. It’s just precautionary, as there have been spurt in malaria cases in the last month or so.\n",
    "(He then proceeds to write the prescription.)\n",
    "Doctor: I’m prescribing three medicines and a syrup. The number of dots in front of each tells you how many times in the day you’ve to take them. For example, the two dots here mean you’ve to take the medicine twice in the day, once in the morning and once after dinner.\n",
    "\"\"\""
   ]
  },
  {
   "cell_type": "code",
   "execution_count": 5,
   "id": "77f93f2f-c724-488a-b0e2-846ad4658aef",
   "metadata": {},
   "outputs": [
    {
     "name": "stdout",
     "output_type": "stream",
     "text": [
      " {\n",
      "    \"Doctor_Patient_Discussion\": {\n",
      "        \"Initial_Observation\": {\n",
      "            \"Symptoms\": [\n",
      "                \"bit scruffy\"\n",
      "            ],\n",
      "            \"Initial_Assessment\": \"\"\n",
      "        },\n",
      "        \"Medical_Examination\": {\n",
      "            \"Temperature\": \"99.8\",\n",
      "            \"Blood_Pressure\": \"fine\",\n",
      "            \"Doctor_Assessment\": \"\",\n",
      "            \"Diagnosis\": \"few symptoms of malaria\"\n",
      "        },\n",
      "        \"Treatment_Plan\": {\n",
      "            \"Prescription\": [\n",
      "                \"three medicines and a syrup\"\n",
      "            ]\n",
      "        }\n",
      "    }\n",
      "}\n",
      "<|end-output|> :\n",
      "\n"
     ]
    }
   ],
   "source": [
    "# Call the function to extract health-related information based on the text and template\n",
    "response1 = extract_info(text1, template1)\n",
    "print(response1['message']['content'])"
   ]
  },
  {
   "cell_type": "markdown",
   "id": "20a4edb7-ec14-4da6-b88a-9ed31b6bdfea",
   "metadata": {},
   "source": [
    "# Example 2: Job Description"
   ]
  },
  {
   "cell_type": "code",
   "execution_count": 6,
   "id": "02da41c7-15b8-4db0-a37e-9c92bf04b73d",
   "metadata": {},
   "outputs": [],
   "source": [
    "# Sample input text about job descriptions\n",
    "text2 = \"\"\"\n",
    "Software Engineer\n",
    "Tech Solutions Corp., Metropolis, USA\n",
    "June 2019 - Present\n",
    "\n",
    "    Designed and developed scalable microservices architecture using Python and Django, improving system reliability by 30%\n",
    "    Collaborated with cross-functional teams to integrate machine learning models into production, enhancing product recommendations accuracy\n",
    "    Led the migration of legacy systems to cloud infrastructure (AWS), reducing operational costs by 20%\n",
    "    Mentored junior developers, providing code reviews and guidance on best practices\n",
    "\n",
    "Intern - Data Analyst\n",
    "Insight Analytics, Rivertown, USA\n",
    "May 2018 - August 2018\n",
    "\n",
    "    Conducted data cleaning and preprocessing for customer datasets using Python and SQL\n",
    "    Created interactive dashboards in Tableau to visualize key performance metrics, resulting in a 15% increase in data-driven decision-making\n",
    "    Assisted in the development of a customer segmentation model to improve targeted marketing\n",
    "\"\"\""
   ]
  },
  {
   "cell_type": "code",
   "execution_count": 7,
   "id": "5ffcf65b-21fc-49a3-b43e-83ddc179d964",
   "metadata": {},
   "outputs": [],
   "source": [
    "# Define a template for extracting company, role\n",
    "template2 = \"\"\"{\n",
    "  'Jobs': [\n",
    "    {\n",
    "      'Organization': '',\n",
    "      'Title': '',\n",
    "      'Dates': ''\n",
    "    }\n",
    "  ]\n",
    "}\"\"\""
   ]
  },
  {
   "cell_type": "code",
   "execution_count": 8,
   "id": "b956f435-e5df-49f3-a99f-778dc9036911",
   "metadata": {},
   "outputs": [
    {
     "name": "stdout",
     "output_type": "stream",
     "text": [
      " {\n",
      "  \"Jobs\": [\n",
      "    {\n",
      "      \"Organization\": \"Tech Solutions Corp.\",\n",
      "        \"Title\": \"Software Engineer\",\n",
      "        \"Dates\": \"June 2019 - Present\"\n",
      "    },\n",
      "    {\n",
      "      \"Organization\": \"Insight Analytics\",\n",
      "        \"Title\": \"Intern - Data Analyst\",\n",
      "        \"Dates\": \"May 2018 - August 2018\"\n",
      "    }\n",
      "  ]\n",
      "}\n",
      "<|end-output|>\n"
     ]
    }
   ],
   "source": [
    "# Call the function to extract job-related information\n",
    "response2 = extract_info(text2, template2)\n",
    "print(response2['message']['content'])"
   ]
  }
 ],
 "metadata": {
  "kernelspec": {
   "display_name": "Python 3 (ipykernel)",
   "language": "python",
   "name": "python3"
  },
  "language_info": {
   "codemirror_mode": {
    "name": "ipython",
    "version": 3
   },
   "file_extension": ".py",
   "mimetype": "text/x-python",
   "name": "python",
   "nbconvert_exporter": "python",
   "pygments_lexer": "ipython3",
   "version": "3.11.10"
  }
 },
 "nbformat": 4,
 "nbformat_minor": 5
}
